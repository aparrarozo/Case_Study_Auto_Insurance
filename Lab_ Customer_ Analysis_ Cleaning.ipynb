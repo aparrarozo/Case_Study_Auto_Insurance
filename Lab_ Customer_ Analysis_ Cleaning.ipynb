{
 "cells": [
  {
   "cell_type": "code",
   "execution_count": 1,
   "id": "65cb6b03",
   "metadata": {},
   "outputs": [],
   "source": [
    "import pandas as pd\n",
    "import numpy as np\n",
    "import matplotlib.pyplot as plt\n",
    "%matplotlib inline\n",
    "import seaborn as sns\n",
    "import statsmodels.api as sm\n",
    "from scipy.stats import boxcox"
   ]
  },
  {
   "cell_type": "code",
   "execution_count": 2,
   "id": "7c30c2de",
   "metadata": {},
   "outputs": [],
   "source": [
    "file1 = pd.read_csv('file1.csv')\n",
    "file2 = pd.read_csv('file2.csv')\n",
    "file3 = pd.read_csv('file3.csv')"
   ]
  },
  {
   "cell_type": "code",
   "execution_count": 3,
   "id": "dcf4d12c",
   "metadata": {},
   "outputs": [
    {
     "data": {
      "text/plain": [
       "['Customer',\n",
       " 'ST',\n",
       " 'GENDER',\n",
       " 'Education',\n",
       " 'Customer Lifetime Value',\n",
       " 'Income',\n",
       " 'Monthly Premium Auto',\n",
       " 'Number of Open Complaints',\n",
       " 'Policy Type',\n",
       " 'Vehicle Class',\n",
       " 'Total Claim Amount']"
      ]
     },
     "execution_count": 3,
     "metadata": {},
     "output_type": "execute_result"
    }
   ],
   "source": [
    "list(file1.columns)"
   ]
  },
  {
   "cell_type": "code",
   "execution_count": 4,
   "id": "f7bbe1ad",
   "metadata": {},
   "outputs": [
    {
     "data": {
      "text/plain": [
       "['Customer',\n",
       " 'ST',\n",
       " 'GENDER',\n",
       " 'Education',\n",
       " 'Customer Lifetime Value',\n",
       " 'Income',\n",
       " 'Monthly Premium Auto',\n",
       " 'Number of Open Complaints',\n",
       " 'Total Claim Amount',\n",
       " 'Policy Type',\n",
       " 'Vehicle Class']"
      ]
     },
     "execution_count": 4,
     "metadata": {},
     "output_type": "execute_result"
    }
   ],
   "source": [
    "list(file2.columns)"
   ]
  },
  {
   "cell_type": "code",
   "execution_count": 5,
   "id": "953fe844",
   "metadata": {},
   "outputs": [
    {
     "data": {
      "text/plain": [
       "['Customer',\n",
       " 'State',\n",
       " 'Customer Lifetime Value',\n",
       " 'Education',\n",
       " 'Gender',\n",
       " 'Income',\n",
       " 'Monthly Premium Auto',\n",
       " 'Number of Open Complaints',\n",
       " 'Policy Type',\n",
       " 'Total Claim Amount',\n",
       " 'Vehicle Class']"
      ]
     },
     "execution_count": 5,
     "metadata": {},
     "output_type": "execute_result"
    }
   ],
   "source": [
    "list(file3.columns)"
   ]
  },
  {
   "cell_type": "code",
   "execution_count": 6,
   "id": "2d204c98",
   "metadata": {},
   "outputs": [],
   "source": [
    "def rename_columns(file3):\n",
    "    file3.rename(columns={'State':'ST', 'Gender':'GENDER'}, inplace=True)\n",
    "    return file3\n",
    "\n",
    "\n",
    "file3=rename_columns(file3)"
   ]
  },
  {
   "cell_type": "code",
   "execution_count": 7,
   "id": "33b65abe",
   "metadata": {},
   "outputs": [
    {
     "data": {
      "text/plain": [
       "['Customer',\n",
       " 'ST',\n",
       " 'Customer Lifetime Value',\n",
       " 'Education',\n",
       " 'GENDER',\n",
       " 'Income',\n",
       " 'Monthly Premium Auto',\n",
       " 'Number of Open Complaints',\n",
       " 'Policy Type',\n",
       " 'Total Claim Amount',\n",
       " 'Vehicle Class']"
      ]
     },
     "execution_count": 7,
     "metadata": {},
     "output_type": "execute_result"
    }
   ],
   "source": [
    "list(file3.columns)"
   ]
  },
  {
   "cell_type": "code",
   "execution_count": 8,
   "id": "f3f51d73",
   "metadata": {},
   "outputs": [],
   "source": [
    "def merge_files():\n",
    "    file1 = pd.read_csv('file1.csv')\n",
    "    file2 = pd.read_csv('file2.csv')\n",
    "    file3\n",
    "    return pd.concat([file1,file2,file3], axis=0, ignore_index=True)"
   ]
  },
  {
   "cell_type": "code",
   "execution_count": 9,
   "id": "f085cefe",
   "metadata": {},
   "outputs": [],
   "source": [
    "ca_df=merge_files()"
   ]
  },
  {
   "cell_type": "code",
   "execution_count": 10,
   "id": "6643edf0",
   "metadata": {},
   "outputs": [
    {
     "data": {
      "text/html": [
       "<div>\n",
       "<style scoped>\n",
       "    .dataframe tbody tr th:only-of-type {\n",
       "        vertical-align: middle;\n",
       "    }\n",
       "\n",
       "    .dataframe tbody tr th {\n",
       "        vertical-align: top;\n",
       "    }\n",
       "\n",
       "    .dataframe thead th {\n",
       "        text-align: right;\n",
       "    }\n",
       "</style>\n",
       "<table border=\"1\" class=\"dataframe\">\n",
       "  <thead>\n",
       "    <tr style=\"text-align: right;\">\n",
       "      <th></th>\n",
       "      <th>Customer</th>\n",
       "      <th>ST</th>\n",
       "      <th>GENDER</th>\n",
       "      <th>Education</th>\n",
       "      <th>Customer Lifetime Value</th>\n",
       "      <th>Income</th>\n",
       "      <th>Monthly Premium Auto</th>\n",
       "      <th>Number of Open Complaints</th>\n",
       "      <th>Policy Type</th>\n",
       "      <th>Vehicle Class</th>\n",
       "      <th>Total Claim Amount</th>\n",
       "    </tr>\n",
       "  </thead>\n",
       "  <tbody>\n",
       "    <tr>\n",
       "      <th>0</th>\n",
       "      <td>RB50392</td>\n",
       "      <td>Washington</td>\n",
       "      <td>NaN</td>\n",
       "      <td>Master</td>\n",
       "      <td>NaN</td>\n",
       "      <td>0.0</td>\n",
       "      <td>1000.0</td>\n",
       "      <td>1/0/00</td>\n",
       "      <td>Personal Auto</td>\n",
       "      <td>Four-Door Car</td>\n",
       "      <td>2.704934</td>\n",
       "    </tr>\n",
       "    <tr>\n",
       "      <th>1</th>\n",
       "      <td>QZ44356</td>\n",
       "      <td>Arizona</td>\n",
       "      <td>F</td>\n",
       "      <td>Bachelor</td>\n",
       "      <td>697953.59%</td>\n",
       "      <td>0.0</td>\n",
       "      <td>94.0</td>\n",
       "      <td>1/0/00</td>\n",
       "      <td>Personal Auto</td>\n",
       "      <td>Four-Door Car</td>\n",
       "      <td>1131.464935</td>\n",
       "    </tr>\n",
       "    <tr>\n",
       "      <th>2</th>\n",
       "      <td>AI49188</td>\n",
       "      <td>Nevada</td>\n",
       "      <td>F</td>\n",
       "      <td>Bachelor</td>\n",
       "      <td>1288743.17%</td>\n",
       "      <td>48767.0</td>\n",
       "      <td>108.0</td>\n",
       "      <td>1/0/00</td>\n",
       "      <td>Personal Auto</td>\n",
       "      <td>Two-Door Car</td>\n",
       "      <td>566.472247</td>\n",
       "    </tr>\n",
       "    <tr>\n",
       "      <th>3</th>\n",
       "      <td>WW63253</td>\n",
       "      <td>California</td>\n",
       "      <td>M</td>\n",
       "      <td>Bachelor</td>\n",
       "      <td>764586.18%</td>\n",
       "      <td>0.0</td>\n",
       "      <td>106.0</td>\n",
       "      <td>1/0/00</td>\n",
       "      <td>Corporate Auto</td>\n",
       "      <td>SUV</td>\n",
       "      <td>529.881344</td>\n",
       "    </tr>\n",
       "    <tr>\n",
       "      <th>4</th>\n",
       "      <td>GA49547</td>\n",
       "      <td>Washington</td>\n",
       "      <td>M</td>\n",
       "      <td>High School or Below</td>\n",
       "      <td>536307.65%</td>\n",
       "      <td>36357.0</td>\n",
       "      <td>68.0</td>\n",
       "      <td>1/0/00</td>\n",
       "      <td>Personal Auto</td>\n",
       "      <td>Four-Door Car</td>\n",
       "      <td>17.269323</td>\n",
       "    </tr>\n",
       "    <tr>\n",
       "      <th>...</th>\n",
       "      <td>...</td>\n",
       "      <td>...</td>\n",
       "      <td>...</td>\n",
       "      <td>...</td>\n",
       "      <td>...</td>\n",
       "      <td>...</td>\n",
       "      <td>...</td>\n",
       "      <td>...</td>\n",
       "      <td>...</td>\n",
       "      <td>...</td>\n",
       "      <td>...</td>\n",
       "    </tr>\n",
       "    <tr>\n",
       "      <th>12069</th>\n",
       "      <td>LA72316</td>\n",
       "      <td>California</td>\n",
       "      <td>M</td>\n",
       "      <td>Bachelor</td>\n",
       "      <td>23405.98798</td>\n",
       "      <td>71941.0</td>\n",
       "      <td>73.0</td>\n",
       "      <td>0</td>\n",
       "      <td>Personal Auto</td>\n",
       "      <td>Four-Door Car</td>\n",
       "      <td>198.234764</td>\n",
       "    </tr>\n",
       "    <tr>\n",
       "      <th>12070</th>\n",
       "      <td>PK87824</td>\n",
       "      <td>California</td>\n",
       "      <td>F</td>\n",
       "      <td>College</td>\n",
       "      <td>3096.511217</td>\n",
       "      <td>21604.0</td>\n",
       "      <td>79.0</td>\n",
       "      <td>0</td>\n",
       "      <td>Corporate Auto</td>\n",
       "      <td>Four-Door Car</td>\n",
       "      <td>379.200000</td>\n",
       "    </tr>\n",
       "    <tr>\n",
       "      <th>12071</th>\n",
       "      <td>TD14365</td>\n",
       "      <td>California</td>\n",
       "      <td>M</td>\n",
       "      <td>Bachelor</td>\n",
       "      <td>8163.890428</td>\n",
       "      <td>0.0</td>\n",
       "      <td>85.0</td>\n",
       "      <td>3</td>\n",
       "      <td>Corporate Auto</td>\n",
       "      <td>Four-Door Car</td>\n",
       "      <td>790.784983</td>\n",
       "    </tr>\n",
       "    <tr>\n",
       "      <th>12072</th>\n",
       "      <td>UP19263</td>\n",
       "      <td>California</td>\n",
       "      <td>M</td>\n",
       "      <td>College</td>\n",
       "      <td>7524.442436</td>\n",
       "      <td>21941.0</td>\n",
       "      <td>96.0</td>\n",
       "      <td>0</td>\n",
       "      <td>Personal Auto</td>\n",
       "      <td>Four-Door Car</td>\n",
       "      <td>691.200000</td>\n",
       "    </tr>\n",
       "    <tr>\n",
       "      <th>12073</th>\n",
       "      <td>Y167826</td>\n",
       "      <td>California</td>\n",
       "      <td>M</td>\n",
       "      <td>College</td>\n",
       "      <td>2611.836866</td>\n",
       "      <td>0.0</td>\n",
       "      <td>77.0</td>\n",
       "      <td>0</td>\n",
       "      <td>Corporate Auto</td>\n",
       "      <td>Two-Door Car</td>\n",
       "      <td>369.600000</td>\n",
       "    </tr>\n",
       "  </tbody>\n",
       "</table>\n",
       "<p>12074 rows × 11 columns</p>\n",
       "</div>"
      ],
      "text/plain": [
       "      Customer          ST GENDER             Education  \\\n",
       "0      RB50392  Washington    NaN                Master   \n",
       "1      QZ44356     Arizona      F              Bachelor   \n",
       "2      AI49188      Nevada      F              Bachelor   \n",
       "3      WW63253  California      M              Bachelor   \n",
       "4      GA49547  Washington      M  High School or Below   \n",
       "...        ...         ...    ...                   ...   \n",
       "12069  LA72316  California      M              Bachelor   \n",
       "12070  PK87824  California      F               College   \n",
       "12071  TD14365  California      M              Bachelor   \n",
       "12072  UP19263  California      M               College   \n",
       "12073  Y167826  California      M               College   \n",
       "\n",
       "      Customer Lifetime Value   Income  Monthly Premium Auto  \\\n",
       "0                         NaN      0.0                1000.0   \n",
       "1                  697953.59%      0.0                  94.0   \n",
       "2                 1288743.17%  48767.0                 108.0   \n",
       "3                  764586.18%      0.0                 106.0   \n",
       "4                  536307.65%  36357.0                  68.0   \n",
       "...                       ...      ...                   ...   \n",
       "12069             23405.98798  71941.0                  73.0   \n",
       "12070             3096.511217  21604.0                  79.0   \n",
       "12071             8163.890428      0.0                  85.0   \n",
       "12072             7524.442436  21941.0                  96.0   \n",
       "12073             2611.836866      0.0                  77.0   \n",
       "\n",
       "      Number of Open Complaints     Policy Type  Vehicle Class  \\\n",
       "0                        1/0/00   Personal Auto  Four-Door Car   \n",
       "1                        1/0/00   Personal Auto  Four-Door Car   \n",
       "2                        1/0/00   Personal Auto   Two-Door Car   \n",
       "3                        1/0/00  Corporate Auto            SUV   \n",
       "4                        1/0/00   Personal Auto  Four-Door Car   \n",
       "...                         ...             ...            ...   \n",
       "12069                         0   Personal Auto  Four-Door Car   \n",
       "12070                         0  Corporate Auto  Four-Door Car   \n",
       "12071                         3  Corporate Auto  Four-Door Car   \n",
       "12072                         0   Personal Auto  Four-Door Car   \n",
       "12073                         0  Corporate Auto   Two-Door Car   \n",
       "\n",
       "       Total Claim Amount  \n",
       "0                2.704934  \n",
       "1             1131.464935  \n",
       "2              566.472247  \n",
       "3              529.881344  \n",
       "4               17.269323  \n",
       "...                   ...  \n",
       "12069          198.234764  \n",
       "12070          379.200000  \n",
       "12071          790.784983  \n",
       "12072          691.200000  \n",
       "12073          369.600000  \n",
       "\n",
       "[12074 rows x 11 columns]"
      ]
     },
     "execution_count": 10,
     "metadata": {},
     "output_type": "execute_result"
    }
   ],
   "source": [
    "ca_df"
   ]
  },
  {
   "cell_type": "code",
   "execution_count": 11,
   "id": "afffdb8f",
   "metadata": {},
   "outputs": [],
   "source": [
    "def lower_case_column_names(ca_df):\n",
    "    ca_df.columns=[i.lower() for i in ca_df.columns]\n",
    "    return ca_df"
   ]
  },
  {
   "cell_type": "code",
   "execution_count": 12,
   "id": "9f47284c",
   "metadata": {},
   "outputs": [],
   "source": [
    "ca_df = lower_case_column_names(ca_df)"
   ]
  },
  {
   "cell_type": "code",
   "execution_count": 13,
   "id": "e1ca2186",
   "metadata": {},
   "outputs": [
    {
     "data": {
      "text/html": [
       "<div>\n",
       "<style scoped>\n",
       "    .dataframe tbody tr th:only-of-type {\n",
       "        vertical-align: middle;\n",
       "    }\n",
       "\n",
       "    .dataframe tbody tr th {\n",
       "        vertical-align: top;\n",
       "    }\n",
       "\n",
       "    .dataframe thead th {\n",
       "        text-align: right;\n",
       "    }\n",
       "</style>\n",
       "<table border=\"1\" class=\"dataframe\">\n",
       "  <thead>\n",
       "    <tr style=\"text-align: right;\">\n",
       "      <th></th>\n",
       "      <th>customer</th>\n",
       "      <th>st</th>\n",
       "      <th>gender</th>\n",
       "      <th>education</th>\n",
       "      <th>customer lifetime value</th>\n",
       "      <th>income</th>\n",
       "      <th>monthly premium auto</th>\n",
       "      <th>number of open complaints</th>\n",
       "      <th>policy type</th>\n",
       "      <th>vehicle class</th>\n",
       "      <th>total claim amount</th>\n",
       "    </tr>\n",
       "  </thead>\n",
       "  <tbody>\n",
       "    <tr>\n",
       "      <th>0</th>\n",
       "      <td>RB50392</td>\n",
       "      <td>Washington</td>\n",
       "      <td>NaN</td>\n",
       "      <td>Master</td>\n",
       "      <td>NaN</td>\n",
       "      <td>0.0</td>\n",
       "      <td>1000.0</td>\n",
       "      <td>1/0/00</td>\n",
       "      <td>Personal Auto</td>\n",
       "      <td>Four-Door Car</td>\n",
       "      <td>2.704934</td>\n",
       "    </tr>\n",
       "    <tr>\n",
       "      <th>1</th>\n",
       "      <td>QZ44356</td>\n",
       "      <td>Arizona</td>\n",
       "      <td>F</td>\n",
       "      <td>Bachelor</td>\n",
       "      <td>697953.59%</td>\n",
       "      <td>0.0</td>\n",
       "      <td>94.0</td>\n",
       "      <td>1/0/00</td>\n",
       "      <td>Personal Auto</td>\n",
       "      <td>Four-Door Car</td>\n",
       "      <td>1131.464935</td>\n",
       "    </tr>\n",
       "    <tr>\n",
       "      <th>2</th>\n",
       "      <td>AI49188</td>\n",
       "      <td>Nevada</td>\n",
       "      <td>F</td>\n",
       "      <td>Bachelor</td>\n",
       "      <td>1288743.17%</td>\n",
       "      <td>48767.0</td>\n",
       "      <td>108.0</td>\n",
       "      <td>1/0/00</td>\n",
       "      <td>Personal Auto</td>\n",
       "      <td>Two-Door Car</td>\n",
       "      <td>566.472247</td>\n",
       "    </tr>\n",
       "    <tr>\n",
       "      <th>3</th>\n",
       "      <td>WW63253</td>\n",
       "      <td>California</td>\n",
       "      <td>M</td>\n",
       "      <td>Bachelor</td>\n",
       "      <td>764586.18%</td>\n",
       "      <td>0.0</td>\n",
       "      <td>106.0</td>\n",
       "      <td>1/0/00</td>\n",
       "      <td>Corporate Auto</td>\n",
       "      <td>SUV</td>\n",
       "      <td>529.881344</td>\n",
       "    </tr>\n",
       "    <tr>\n",
       "      <th>4</th>\n",
       "      <td>GA49547</td>\n",
       "      <td>Washington</td>\n",
       "      <td>M</td>\n",
       "      <td>High School or Below</td>\n",
       "      <td>536307.65%</td>\n",
       "      <td>36357.0</td>\n",
       "      <td>68.0</td>\n",
       "      <td>1/0/00</td>\n",
       "      <td>Personal Auto</td>\n",
       "      <td>Four-Door Car</td>\n",
       "      <td>17.269323</td>\n",
       "    </tr>\n",
       "    <tr>\n",
       "      <th>...</th>\n",
       "      <td>...</td>\n",
       "      <td>...</td>\n",
       "      <td>...</td>\n",
       "      <td>...</td>\n",
       "      <td>...</td>\n",
       "      <td>...</td>\n",
       "      <td>...</td>\n",
       "      <td>...</td>\n",
       "      <td>...</td>\n",
       "      <td>...</td>\n",
       "      <td>...</td>\n",
       "    </tr>\n",
       "    <tr>\n",
       "      <th>12069</th>\n",
       "      <td>LA72316</td>\n",
       "      <td>California</td>\n",
       "      <td>M</td>\n",
       "      <td>Bachelor</td>\n",
       "      <td>23405.98798</td>\n",
       "      <td>71941.0</td>\n",
       "      <td>73.0</td>\n",
       "      <td>0</td>\n",
       "      <td>Personal Auto</td>\n",
       "      <td>Four-Door Car</td>\n",
       "      <td>198.234764</td>\n",
       "    </tr>\n",
       "    <tr>\n",
       "      <th>12070</th>\n",
       "      <td>PK87824</td>\n",
       "      <td>California</td>\n",
       "      <td>F</td>\n",
       "      <td>College</td>\n",
       "      <td>3096.511217</td>\n",
       "      <td>21604.0</td>\n",
       "      <td>79.0</td>\n",
       "      <td>0</td>\n",
       "      <td>Corporate Auto</td>\n",
       "      <td>Four-Door Car</td>\n",
       "      <td>379.200000</td>\n",
       "    </tr>\n",
       "    <tr>\n",
       "      <th>12071</th>\n",
       "      <td>TD14365</td>\n",
       "      <td>California</td>\n",
       "      <td>M</td>\n",
       "      <td>Bachelor</td>\n",
       "      <td>8163.890428</td>\n",
       "      <td>0.0</td>\n",
       "      <td>85.0</td>\n",
       "      <td>3</td>\n",
       "      <td>Corporate Auto</td>\n",
       "      <td>Four-Door Car</td>\n",
       "      <td>790.784983</td>\n",
       "    </tr>\n",
       "    <tr>\n",
       "      <th>12072</th>\n",
       "      <td>UP19263</td>\n",
       "      <td>California</td>\n",
       "      <td>M</td>\n",
       "      <td>College</td>\n",
       "      <td>7524.442436</td>\n",
       "      <td>21941.0</td>\n",
       "      <td>96.0</td>\n",
       "      <td>0</td>\n",
       "      <td>Personal Auto</td>\n",
       "      <td>Four-Door Car</td>\n",
       "      <td>691.200000</td>\n",
       "    </tr>\n",
       "    <tr>\n",
       "      <th>12073</th>\n",
       "      <td>Y167826</td>\n",
       "      <td>California</td>\n",
       "      <td>M</td>\n",
       "      <td>College</td>\n",
       "      <td>2611.836866</td>\n",
       "      <td>0.0</td>\n",
       "      <td>77.0</td>\n",
       "      <td>0</td>\n",
       "      <td>Corporate Auto</td>\n",
       "      <td>Two-Door Car</td>\n",
       "      <td>369.600000</td>\n",
       "    </tr>\n",
       "  </tbody>\n",
       "</table>\n",
       "<p>12074 rows × 11 columns</p>\n",
       "</div>"
      ],
      "text/plain": [
       "      customer          st gender             education  \\\n",
       "0      RB50392  Washington    NaN                Master   \n",
       "1      QZ44356     Arizona      F              Bachelor   \n",
       "2      AI49188      Nevada      F              Bachelor   \n",
       "3      WW63253  California      M              Bachelor   \n",
       "4      GA49547  Washington      M  High School or Below   \n",
       "...        ...         ...    ...                   ...   \n",
       "12069  LA72316  California      M              Bachelor   \n",
       "12070  PK87824  California      F               College   \n",
       "12071  TD14365  California      M              Bachelor   \n",
       "12072  UP19263  California      M               College   \n",
       "12073  Y167826  California      M               College   \n",
       "\n",
       "      customer lifetime value   income  monthly premium auto  \\\n",
       "0                         NaN      0.0                1000.0   \n",
       "1                  697953.59%      0.0                  94.0   \n",
       "2                 1288743.17%  48767.0                 108.0   \n",
       "3                  764586.18%      0.0                 106.0   \n",
       "4                  536307.65%  36357.0                  68.0   \n",
       "...                       ...      ...                   ...   \n",
       "12069             23405.98798  71941.0                  73.0   \n",
       "12070             3096.511217  21604.0                  79.0   \n",
       "12071             8163.890428      0.0                  85.0   \n",
       "12072             7524.442436  21941.0                  96.0   \n",
       "12073             2611.836866      0.0                  77.0   \n",
       "\n",
       "      number of open complaints     policy type  vehicle class  \\\n",
       "0                        1/0/00   Personal Auto  Four-Door Car   \n",
       "1                        1/0/00   Personal Auto  Four-Door Car   \n",
       "2                        1/0/00   Personal Auto   Two-Door Car   \n",
       "3                        1/0/00  Corporate Auto            SUV   \n",
       "4                        1/0/00   Personal Auto  Four-Door Car   \n",
       "...                         ...             ...            ...   \n",
       "12069                         0   Personal Auto  Four-Door Car   \n",
       "12070                         0  Corporate Auto  Four-Door Car   \n",
       "12071                         3  Corporate Auto  Four-Door Car   \n",
       "12072                         0   Personal Auto  Four-Door Car   \n",
       "12073                         0  Corporate Auto   Two-Door Car   \n",
       "\n",
       "       total claim amount  \n",
       "0                2.704934  \n",
       "1             1131.464935  \n",
       "2              566.472247  \n",
       "3              529.881344  \n",
       "4               17.269323  \n",
       "...                   ...  \n",
       "12069          198.234764  \n",
       "12070          379.200000  \n",
       "12071          790.784983  \n",
       "12072          691.200000  \n",
       "12073          369.600000  \n",
       "\n",
       "[12074 rows x 11 columns]"
      ]
     },
     "execution_count": 13,
     "metadata": {},
     "output_type": "execute_result"
    }
   ],
   "source": [
    "ca_df"
   ]
  },
  {
   "cell_type": "code",
   "execution_count": 14,
   "id": "bed46a99",
   "metadata": {},
   "outputs": [],
   "source": [
    "def drop_column(ca_df) :\n",
    "    ca_df.drop(columns=[\"customer\"], inplace=True)\n",
    "    return ca_df"
   ]
  },
  {
   "cell_type": "code",
   "execution_count": 15,
   "id": "c93a2344",
   "metadata": {},
   "outputs": [],
   "source": [
    "ca_df=drop_column(ca_df)"
   ]
  },
  {
   "cell_type": "code",
   "execution_count": 16,
   "id": "d565ab65",
   "metadata": {},
   "outputs": [
    {
     "data": {
      "text/html": [
       "<div>\n",
       "<style scoped>\n",
       "    .dataframe tbody tr th:only-of-type {\n",
       "        vertical-align: middle;\n",
       "    }\n",
       "\n",
       "    .dataframe tbody tr th {\n",
       "        vertical-align: top;\n",
       "    }\n",
       "\n",
       "    .dataframe thead th {\n",
       "        text-align: right;\n",
       "    }\n",
       "</style>\n",
       "<table border=\"1\" class=\"dataframe\">\n",
       "  <thead>\n",
       "    <tr style=\"text-align: right;\">\n",
       "      <th></th>\n",
       "      <th>st</th>\n",
       "      <th>gender</th>\n",
       "      <th>education</th>\n",
       "      <th>customer lifetime value</th>\n",
       "      <th>income</th>\n",
       "      <th>monthly premium auto</th>\n",
       "      <th>number of open complaints</th>\n",
       "      <th>policy type</th>\n",
       "      <th>vehicle class</th>\n",
       "      <th>total claim amount</th>\n",
       "    </tr>\n",
       "  </thead>\n",
       "  <tbody>\n",
       "    <tr>\n",
       "      <th>0</th>\n",
       "      <td>Washington</td>\n",
       "      <td>NaN</td>\n",
       "      <td>Master</td>\n",
       "      <td>NaN</td>\n",
       "      <td>0.0</td>\n",
       "      <td>1000.0</td>\n",
       "      <td>1/0/00</td>\n",
       "      <td>Personal Auto</td>\n",
       "      <td>Four-Door Car</td>\n",
       "      <td>2.704934</td>\n",
       "    </tr>\n",
       "    <tr>\n",
       "      <th>1</th>\n",
       "      <td>Arizona</td>\n",
       "      <td>F</td>\n",
       "      <td>Bachelor</td>\n",
       "      <td>697953.59%</td>\n",
       "      <td>0.0</td>\n",
       "      <td>94.0</td>\n",
       "      <td>1/0/00</td>\n",
       "      <td>Personal Auto</td>\n",
       "      <td>Four-Door Car</td>\n",
       "      <td>1131.464935</td>\n",
       "    </tr>\n",
       "    <tr>\n",
       "      <th>2</th>\n",
       "      <td>Nevada</td>\n",
       "      <td>F</td>\n",
       "      <td>Bachelor</td>\n",
       "      <td>1288743.17%</td>\n",
       "      <td>48767.0</td>\n",
       "      <td>108.0</td>\n",
       "      <td>1/0/00</td>\n",
       "      <td>Personal Auto</td>\n",
       "      <td>Two-Door Car</td>\n",
       "      <td>566.472247</td>\n",
       "    </tr>\n",
       "    <tr>\n",
       "      <th>3</th>\n",
       "      <td>California</td>\n",
       "      <td>M</td>\n",
       "      <td>Bachelor</td>\n",
       "      <td>764586.18%</td>\n",
       "      <td>0.0</td>\n",
       "      <td>106.0</td>\n",
       "      <td>1/0/00</td>\n",
       "      <td>Corporate Auto</td>\n",
       "      <td>SUV</td>\n",
       "      <td>529.881344</td>\n",
       "    </tr>\n",
       "    <tr>\n",
       "      <th>4</th>\n",
       "      <td>Washington</td>\n",
       "      <td>M</td>\n",
       "      <td>High School or Below</td>\n",
       "      <td>536307.65%</td>\n",
       "      <td>36357.0</td>\n",
       "      <td>68.0</td>\n",
       "      <td>1/0/00</td>\n",
       "      <td>Personal Auto</td>\n",
       "      <td>Four-Door Car</td>\n",
       "      <td>17.269323</td>\n",
       "    </tr>\n",
       "    <tr>\n",
       "      <th>...</th>\n",
       "      <td>...</td>\n",
       "      <td>...</td>\n",
       "      <td>...</td>\n",
       "      <td>...</td>\n",
       "      <td>...</td>\n",
       "      <td>...</td>\n",
       "      <td>...</td>\n",
       "      <td>...</td>\n",
       "      <td>...</td>\n",
       "      <td>...</td>\n",
       "    </tr>\n",
       "    <tr>\n",
       "      <th>12069</th>\n",
       "      <td>California</td>\n",
       "      <td>M</td>\n",
       "      <td>Bachelor</td>\n",
       "      <td>23405.98798</td>\n",
       "      <td>71941.0</td>\n",
       "      <td>73.0</td>\n",
       "      <td>0</td>\n",
       "      <td>Personal Auto</td>\n",
       "      <td>Four-Door Car</td>\n",
       "      <td>198.234764</td>\n",
       "    </tr>\n",
       "    <tr>\n",
       "      <th>12070</th>\n",
       "      <td>California</td>\n",
       "      <td>F</td>\n",
       "      <td>College</td>\n",
       "      <td>3096.511217</td>\n",
       "      <td>21604.0</td>\n",
       "      <td>79.0</td>\n",
       "      <td>0</td>\n",
       "      <td>Corporate Auto</td>\n",
       "      <td>Four-Door Car</td>\n",
       "      <td>379.200000</td>\n",
       "    </tr>\n",
       "    <tr>\n",
       "      <th>12071</th>\n",
       "      <td>California</td>\n",
       "      <td>M</td>\n",
       "      <td>Bachelor</td>\n",
       "      <td>8163.890428</td>\n",
       "      <td>0.0</td>\n",
       "      <td>85.0</td>\n",
       "      <td>3</td>\n",
       "      <td>Corporate Auto</td>\n",
       "      <td>Four-Door Car</td>\n",
       "      <td>790.784983</td>\n",
       "    </tr>\n",
       "    <tr>\n",
       "      <th>12072</th>\n",
       "      <td>California</td>\n",
       "      <td>M</td>\n",
       "      <td>College</td>\n",
       "      <td>7524.442436</td>\n",
       "      <td>21941.0</td>\n",
       "      <td>96.0</td>\n",
       "      <td>0</td>\n",
       "      <td>Personal Auto</td>\n",
       "      <td>Four-Door Car</td>\n",
       "      <td>691.200000</td>\n",
       "    </tr>\n",
       "    <tr>\n",
       "      <th>12073</th>\n",
       "      <td>California</td>\n",
       "      <td>M</td>\n",
       "      <td>College</td>\n",
       "      <td>2611.836866</td>\n",
       "      <td>0.0</td>\n",
       "      <td>77.0</td>\n",
       "      <td>0</td>\n",
       "      <td>Corporate Auto</td>\n",
       "      <td>Two-Door Car</td>\n",
       "      <td>369.600000</td>\n",
       "    </tr>\n",
       "  </tbody>\n",
       "</table>\n",
       "<p>12074 rows × 10 columns</p>\n",
       "</div>"
      ],
      "text/plain": [
       "               st gender             education customer lifetime value  \\\n",
       "0      Washington    NaN                Master                     NaN   \n",
       "1         Arizona      F              Bachelor              697953.59%   \n",
       "2          Nevada      F              Bachelor             1288743.17%   \n",
       "3      California      M              Bachelor              764586.18%   \n",
       "4      Washington      M  High School or Below              536307.65%   \n",
       "...           ...    ...                   ...                     ...   \n",
       "12069  California      M              Bachelor             23405.98798   \n",
       "12070  California      F               College             3096.511217   \n",
       "12071  California      M              Bachelor             8163.890428   \n",
       "12072  California      M               College             7524.442436   \n",
       "12073  California      M               College             2611.836866   \n",
       "\n",
       "        income  monthly premium auto number of open complaints  \\\n",
       "0          0.0                1000.0                    1/0/00   \n",
       "1          0.0                  94.0                    1/0/00   \n",
       "2      48767.0                 108.0                    1/0/00   \n",
       "3          0.0                 106.0                    1/0/00   \n",
       "4      36357.0                  68.0                    1/0/00   \n",
       "...        ...                   ...                       ...   \n",
       "12069  71941.0                  73.0                         0   \n",
       "12070  21604.0                  79.0                         0   \n",
       "12071      0.0                  85.0                         3   \n",
       "12072  21941.0                  96.0                         0   \n",
       "12073      0.0                  77.0                         0   \n",
       "\n",
       "          policy type  vehicle class  total claim amount  \n",
       "0       Personal Auto  Four-Door Car            2.704934  \n",
       "1       Personal Auto  Four-Door Car         1131.464935  \n",
       "2       Personal Auto   Two-Door Car          566.472247  \n",
       "3      Corporate Auto            SUV          529.881344  \n",
       "4       Personal Auto  Four-Door Car           17.269323  \n",
       "...               ...            ...                 ...  \n",
       "12069   Personal Auto  Four-Door Car          198.234764  \n",
       "12070  Corporate Auto  Four-Door Car          379.200000  \n",
       "12071  Corporate Auto  Four-Door Car          790.784983  \n",
       "12072   Personal Auto  Four-Door Car          691.200000  \n",
       "12073  Corporate Auto   Two-Door Car          369.600000  \n",
       "\n",
       "[12074 rows x 10 columns]"
      ]
     },
     "execution_count": 16,
     "metadata": {},
     "output_type": "execute_result"
    }
   ],
   "source": [
    "ca_df"
   ]
  },
  {
   "cell_type": "code",
   "execution_count": 17,
   "id": "457305ea",
   "metadata": {},
   "outputs": [
    {
     "data": {
      "text/plain": [
       "st                            object\n",
       "gender                        object\n",
       "education                     object\n",
       "customer lifetime value       object\n",
       "income                       float64\n",
       "monthly premium auto         float64\n",
       "number of open complaints     object\n",
       "policy type                   object\n",
       "vehicle class                 object\n",
       "total claim amount           float64\n",
       "dtype: object"
      ]
     },
     "execution_count": 17,
     "metadata": {},
     "output_type": "execute_result"
    }
   ],
   "source": [
    "ca_df.dtypes"
   ]
  },
  {
   "cell_type": "code",
   "execution_count": 18,
   "id": "279093b5",
   "metadata": {},
   "outputs": [
    {
     "data": {
      "text/plain": [
       "array(['1/0/00', '1/2/00', '1/1/00', '1/3/00', '1/5/00', '1/4/00', nan, 0,\n",
       "       2, 3, 1, 5, 4], dtype=object)"
      ]
     },
     "execution_count": 18,
     "metadata": {},
     "output_type": "execute_result"
    }
   ],
   "source": [
    "ca_df[\"number of open complaints\"].unique()"
   ]
  },
  {
   "cell_type": "code",
   "execution_count": 19,
   "id": "94adcad0",
   "metadata": {},
   "outputs": [],
   "source": [
    "## Standardize the values in open complaints, taking only the middle value of 0/00/00\n",
    "ca_df[\"number of open complaints\"] = list(map(lambda x:int(x[2]) if isinstance(x, str) else x, ca_df[\"number of open complaints\"]))\n",
    "\n"
   ]
  },
  {
   "cell_type": "code",
   "execution_count": 20,
   "id": "095f2e76",
   "metadata": {},
   "outputs": [
    {
     "data": {
      "text/plain": [
       "array([ 0.,  2.,  1.,  3.,  5.,  4., nan])"
      ]
     },
     "execution_count": 20,
     "metadata": {},
     "output_type": "execute_result"
    }
   ],
   "source": [
    "ca_df[\"number of open complaints\"].unique()"
   ]
  },
  {
   "cell_type": "code",
   "execution_count": 21,
   "id": "d68a4b5d",
   "metadata": {},
   "outputs": [],
   "source": [
    "## Standardize the values in customer lifetime value by getting rid of the % sign, first turn into string to identify tge values with \"%\"\"\n",
    "\n",
    "ca_df['customer lifetime value'] = ca_df['customer lifetime value'].astype(str).str.replace('%', '')\n"
   ]
  },
  {
   "cell_type": "code",
   "execution_count": 22,
   "id": "50d55f3c",
   "metadata": {},
   "outputs": [
    {
     "data": {
      "text/plain": [
       "0           nan\n",
       "1     697953.59\n",
       "2    1288743.17\n",
       "3     764586.18\n",
       "4     536307.65\n",
       "Name: customer lifetime value, dtype: object"
      ]
     },
     "execution_count": 22,
     "metadata": {},
     "output_type": "execute_result"
    }
   ],
   "source": [
    "ca_df[\"customer lifetime value\"].head()"
   ]
  },
  {
   "cell_type": "code",
   "execution_count": null,
   "id": "7e6cb129",
   "metadata": {},
   "outputs": [],
   "source": []
  },
  {
   "cell_type": "code",
   "execution_count": 23,
   "id": "3b3267f9",
   "metadata": {},
   "outputs": [
    {
     "data": {
      "text/plain": [
       "st                            object\n",
       "gender                        object\n",
       "education                     object\n",
       "customer lifetime value       object\n",
       "income                       float64\n",
       "monthly premium auto         float64\n",
       "number of open complaints    float64\n",
       "policy type                   object\n",
       "vehicle class                 object\n",
       "total claim amount           float64\n",
       "dtype: object"
      ]
     },
     "execution_count": 23,
     "metadata": {},
     "output_type": "execute_result"
    }
   ],
   "source": [
    "ca_df.dtypes"
   ]
  },
  {
   "cell_type": "code",
   "execution_count": 24,
   "id": "edfa02e1",
   "metadata": {},
   "outputs": [],
   "source": [
    "ca_df['customer lifetime value']= pd.to_numeric(ca_df['customer lifetime value'], errors='coerce')\n"
   ]
  },
  {
   "cell_type": "code",
   "execution_count": 71,
   "id": "76810cc3",
   "metadata": {},
   "outputs": [
    {
     "data": {
      "text/plain": [
       "0        1.821960e+05\n",
       "1        6.979536e+05\n",
       "2        1.288743e+06\n",
       "3        7.645862e+05\n",
       "4        5.363077e+05\n",
       "             ...     \n",
       "12069    2.340599e+04\n",
       "12070    3.096511e+03\n",
       "12071    8.163890e+03\n",
       "12072    7.524442e+03\n",
       "12073    2.611837e+03\n",
       "Name: customer lifetime value, Length: 12074, dtype: float64"
      ]
     },
     "execution_count": 71,
     "metadata": {},
     "output_type": "execute_result"
    }
   ],
   "source": [
    "ca_df['customer lifetime value']"
   ]
  },
  {
   "cell_type": "code",
   "execution_count": 26,
   "id": "131e89fc",
   "metadata": {},
   "outputs": [
    {
     "data": {
      "text/plain": [
       "st                            object\n",
       "gender                        object\n",
       "education                     object\n",
       "customer lifetime value      float64\n",
       "income                       float64\n",
       "monthly premium auto         float64\n",
       "number of open complaints    float64\n",
       "policy type                   object\n",
       "vehicle class                 object\n",
       "total claim amount           float64\n",
       "dtype: object"
      ]
     },
     "execution_count": 26,
     "metadata": {},
     "output_type": "execute_result"
    }
   ],
   "source": [
    "ca_df.dtypes"
   ]
  },
  {
   "cell_type": "code",
   "execution_count": 27,
   "id": "b602a1be",
   "metadata": {},
   "outputs": [
    {
     "data": {
      "text/plain": [
       "st                            object\n",
       "gender                        object\n",
       "education                     object\n",
       "customer lifetime value      float64\n",
       "income                       float64\n",
       "monthly premium auto         float64\n",
       "number of open complaints    float64\n",
       "policy type                   object\n",
       "vehicle class                 object\n",
       "total claim amount           float64\n",
       "dtype: object"
      ]
     },
     "execution_count": 27,
     "metadata": {},
     "output_type": "execute_result"
    }
   ],
   "source": [
    "ca_df.dtypes"
   ]
  },
  {
   "cell_type": "code",
   "execution_count": 28,
   "id": "68bdc421",
   "metadata": {},
   "outputs": [],
   "source": [
    "ca_df['number of open complaints']=pd.to_numeric(ca_df['number of open complaints'], errors='coerce')\n"
   ]
  },
  {
   "cell_type": "code",
   "execution_count": 29,
   "id": "9d45c5d4",
   "metadata": {},
   "outputs": [
    {
     "data": {
      "text/plain": [
       "st                            object\n",
       "gender                        object\n",
       "education                     object\n",
       "customer lifetime value      float64\n",
       "income                       float64\n",
       "monthly premium auto         float64\n",
       "number of open complaints    float64\n",
       "policy type                   object\n",
       "vehicle class                 object\n",
       "total claim amount           float64\n",
       "dtype: object"
      ]
     },
     "execution_count": 29,
     "metadata": {},
     "output_type": "execute_result"
    }
   ],
   "source": [
    "ca_df.dtypes"
   ]
  },
  {
   "cell_type": "code",
   "execution_count": 30,
   "id": "e0ab9002",
   "metadata": {},
   "outputs": [
    {
     "data": {
      "text/plain": [
       "array([nan, 'F', 'M', 'Femal', 'Male', 'female'], dtype=object)"
      ]
     },
     "execution_count": 30,
     "metadata": {},
     "output_type": "execute_result"
    }
   ],
   "source": [
    "ca_df['gender'].unique()"
   ]
  },
  {
   "cell_type": "code",
   "execution_count": 31,
   "id": "bcf2b972",
   "metadata": {},
   "outputs": [
    {
     "data": {
      "text/plain": [
       "array(['Washington', 'Arizona', 'Nevada', 'California', 'Oregon', 'Cali',\n",
       "       'AZ', 'WA', nan], dtype=object)"
      ]
     },
     "execution_count": 31,
     "metadata": {},
     "output_type": "execute_result"
    }
   ],
   "source": [
    "ca_df['st'].unique()"
   ]
  },
  {
   "cell_type": "code",
   "execution_count": 32,
   "id": "3f9329be",
   "metadata": {},
   "outputs": [],
   "source": [
    "#Change the type of values in gender to string to \n",
    "ca_df['gender']= ca_df['gender'].astype(str)"
   ]
  },
  {
   "cell_type": "code",
   "execution_count": 33,
   "id": "8f7075ca",
   "metadata": {},
   "outputs": [],
   "source": [
    "ca_df['gender']=list(map(lambda x:'F' if ('emal' in x) else x, ca_df['gender']))"
   ]
  },
  {
   "cell_type": "code",
   "execution_count": 34,
   "id": "6ebeea20",
   "metadata": {},
   "outputs": [],
   "source": [
    "ca_df['gender']=list(map(lambda x:'M' if ('Male' in x) else x, ca_df['gender']))"
   ]
  },
  {
   "cell_type": "code",
   "execution_count": 35,
   "id": "0a4288bb",
   "metadata": {},
   "outputs": [
    {
     "data": {
      "text/plain": [
       "array(['nan', 'F', 'M'], dtype=object)"
      ]
     },
     "execution_count": 35,
     "metadata": {},
     "output_type": "execute_result"
    }
   ],
   "source": [
    "ca_df['gender'].unique()"
   ]
  },
  {
   "cell_type": "code",
   "execution_count": 36,
   "id": "6f67483c",
   "metadata": {},
   "outputs": [
    {
     "data": {
      "text/html": [
       "<div>\n",
       "<style scoped>\n",
       "    .dataframe tbody tr th:only-of-type {\n",
       "        vertical-align: middle;\n",
       "    }\n",
       "\n",
       "    .dataframe tbody tr th {\n",
       "        vertical-align: top;\n",
       "    }\n",
       "\n",
       "    .dataframe thead th {\n",
       "        text-align: right;\n",
       "    }\n",
       "</style>\n",
       "<table border=\"1\" class=\"dataframe\">\n",
       "  <thead>\n",
       "    <tr style=\"text-align: right;\">\n",
       "      <th></th>\n",
       "      <th>st</th>\n",
       "      <th>gender</th>\n",
       "      <th>education</th>\n",
       "      <th>customer lifetime value</th>\n",
       "      <th>income</th>\n",
       "      <th>monthly premium auto</th>\n",
       "      <th>number of open complaints</th>\n",
       "      <th>policy type</th>\n",
       "      <th>vehicle class</th>\n",
       "      <th>total claim amount</th>\n",
       "    </tr>\n",
       "  </thead>\n",
       "  <tbody>\n",
       "    <tr>\n",
       "      <th>0</th>\n",
       "      <td>Washington</td>\n",
       "      <td>nan</td>\n",
       "      <td>Master</td>\n",
       "      <td>NaN</td>\n",
       "      <td>0.0</td>\n",
       "      <td>1000.0</td>\n",
       "      <td>0.0</td>\n",
       "      <td>Personal Auto</td>\n",
       "      <td>Four-Door Car</td>\n",
       "      <td>2.704934</td>\n",
       "    </tr>\n",
       "    <tr>\n",
       "      <th>1</th>\n",
       "      <td>Arizona</td>\n",
       "      <td>F</td>\n",
       "      <td>Bachelor</td>\n",
       "      <td>6.979536e+05</td>\n",
       "      <td>0.0</td>\n",
       "      <td>94.0</td>\n",
       "      <td>0.0</td>\n",
       "      <td>Personal Auto</td>\n",
       "      <td>Four-Door Car</td>\n",
       "      <td>1131.464935</td>\n",
       "    </tr>\n",
       "    <tr>\n",
       "      <th>2</th>\n",
       "      <td>Nevada</td>\n",
       "      <td>F</td>\n",
       "      <td>Bachelor</td>\n",
       "      <td>1.288743e+06</td>\n",
       "      <td>48767.0</td>\n",
       "      <td>108.0</td>\n",
       "      <td>0.0</td>\n",
       "      <td>Personal Auto</td>\n",
       "      <td>Two-Door Car</td>\n",
       "      <td>566.472247</td>\n",
       "    </tr>\n",
       "    <tr>\n",
       "      <th>3</th>\n",
       "      <td>California</td>\n",
       "      <td>M</td>\n",
       "      <td>Bachelor</td>\n",
       "      <td>7.645862e+05</td>\n",
       "      <td>0.0</td>\n",
       "      <td>106.0</td>\n",
       "      <td>0.0</td>\n",
       "      <td>Corporate Auto</td>\n",
       "      <td>SUV</td>\n",
       "      <td>529.881344</td>\n",
       "    </tr>\n",
       "    <tr>\n",
       "      <th>4</th>\n",
       "      <td>Washington</td>\n",
       "      <td>M</td>\n",
       "      <td>High School or Below</td>\n",
       "      <td>5.363077e+05</td>\n",
       "      <td>36357.0</td>\n",
       "      <td>68.0</td>\n",
       "      <td>0.0</td>\n",
       "      <td>Personal Auto</td>\n",
       "      <td>Four-Door Car</td>\n",
       "      <td>17.269323</td>\n",
       "    </tr>\n",
       "    <tr>\n",
       "      <th>...</th>\n",
       "      <td>...</td>\n",
       "      <td>...</td>\n",
       "      <td>...</td>\n",
       "      <td>...</td>\n",
       "      <td>...</td>\n",
       "      <td>...</td>\n",
       "      <td>...</td>\n",
       "      <td>...</td>\n",
       "      <td>...</td>\n",
       "      <td>...</td>\n",
       "    </tr>\n",
       "    <tr>\n",
       "      <th>12069</th>\n",
       "      <td>California</td>\n",
       "      <td>M</td>\n",
       "      <td>Bachelor</td>\n",
       "      <td>2.340599e+04</td>\n",
       "      <td>71941.0</td>\n",
       "      <td>73.0</td>\n",
       "      <td>0.0</td>\n",
       "      <td>Personal Auto</td>\n",
       "      <td>Four-Door Car</td>\n",
       "      <td>198.234764</td>\n",
       "    </tr>\n",
       "    <tr>\n",
       "      <th>12070</th>\n",
       "      <td>California</td>\n",
       "      <td>F</td>\n",
       "      <td>College</td>\n",
       "      <td>3.096511e+03</td>\n",
       "      <td>21604.0</td>\n",
       "      <td>79.0</td>\n",
       "      <td>0.0</td>\n",
       "      <td>Corporate Auto</td>\n",
       "      <td>Four-Door Car</td>\n",
       "      <td>379.200000</td>\n",
       "    </tr>\n",
       "    <tr>\n",
       "      <th>12071</th>\n",
       "      <td>California</td>\n",
       "      <td>M</td>\n",
       "      <td>Bachelor</td>\n",
       "      <td>8.163890e+03</td>\n",
       "      <td>0.0</td>\n",
       "      <td>85.0</td>\n",
       "      <td>3.0</td>\n",
       "      <td>Corporate Auto</td>\n",
       "      <td>Four-Door Car</td>\n",
       "      <td>790.784983</td>\n",
       "    </tr>\n",
       "    <tr>\n",
       "      <th>12072</th>\n",
       "      <td>California</td>\n",
       "      <td>M</td>\n",
       "      <td>College</td>\n",
       "      <td>7.524442e+03</td>\n",
       "      <td>21941.0</td>\n",
       "      <td>96.0</td>\n",
       "      <td>0.0</td>\n",
       "      <td>Personal Auto</td>\n",
       "      <td>Four-Door Car</td>\n",
       "      <td>691.200000</td>\n",
       "    </tr>\n",
       "    <tr>\n",
       "      <th>12073</th>\n",
       "      <td>California</td>\n",
       "      <td>M</td>\n",
       "      <td>College</td>\n",
       "      <td>2.611837e+03</td>\n",
       "      <td>0.0</td>\n",
       "      <td>77.0</td>\n",
       "      <td>0.0</td>\n",
       "      <td>Corporate Auto</td>\n",
       "      <td>Two-Door Car</td>\n",
       "      <td>369.600000</td>\n",
       "    </tr>\n",
       "  </tbody>\n",
       "</table>\n",
       "<p>8880 rows × 10 columns</p>\n",
       "</div>"
      ],
      "text/plain": [
       "               st gender             education  customer lifetime value  \\\n",
       "0      Washington    nan                Master                      NaN   \n",
       "1         Arizona      F              Bachelor             6.979536e+05   \n",
       "2          Nevada      F              Bachelor             1.288743e+06   \n",
       "3      California      M              Bachelor             7.645862e+05   \n",
       "4      Washington      M  High School or Below             5.363077e+05   \n",
       "...           ...    ...                   ...                      ...   \n",
       "12069  California      M              Bachelor             2.340599e+04   \n",
       "12070  California      F               College             3.096511e+03   \n",
       "12071  California      M              Bachelor             8.163890e+03   \n",
       "12072  California      M               College             7.524442e+03   \n",
       "12073  California      M               College             2.611837e+03   \n",
       "\n",
       "        income  monthly premium auto  number of open complaints  \\\n",
       "0          0.0                1000.0                        0.0   \n",
       "1          0.0                  94.0                        0.0   \n",
       "2      48767.0                 108.0                        0.0   \n",
       "3          0.0                 106.0                        0.0   \n",
       "4      36357.0                  68.0                        0.0   \n",
       "...        ...                   ...                        ...   \n",
       "12069  71941.0                  73.0                        0.0   \n",
       "12070  21604.0                  79.0                        0.0   \n",
       "12071      0.0                  85.0                        3.0   \n",
       "12072  21941.0                  96.0                        0.0   \n",
       "12073      0.0                  77.0                        0.0   \n",
       "\n",
       "          policy type  vehicle class  total claim amount  \n",
       "0       Personal Auto  Four-Door Car            2.704934  \n",
       "1       Personal Auto  Four-Door Car         1131.464935  \n",
       "2       Personal Auto   Two-Door Car          566.472247  \n",
       "3      Corporate Auto            SUV          529.881344  \n",
       "4       Personal Auto  Four-Door Car           17.269323  \n",
       "...               ...            ...                 ...  \n",
       "12069   Personal Auto  Four-Door Car          198.234764  \n",
       "12070  Corporate Auto  Four-Door Car          379.200000  \n",
       "12071  Corporate Auto  Four-Door Car          790.784983  \n",
       "12072   Personal Auto  Four-Door Car          691.200000  \n",
       "12073  Corporate Auto   Two-Door Car          369.600000  \n",
       "\n",
       "[8880 rows x 10 columns]"
      ]
     },
     "execution_count": 36,
     "metadata": {},
     "output_type": "execute_result"
    }
   ],
   "source": [
    "# Remove duplicates\n",
    "ca_df.drop_duplicates()"
   ]
  },
  {
   "cell_type": "code",
   "execution_count": 37,
   "id": "cdc1fe44",
   "metadata": {},
   "outputs": [],
   "source": [
    "#how to check if the deleted cells we actually duplicates?"
   ]
  },
  {
   "cell_type": "code",
   "execution_count": 38,
   "id": "8b90f118",
   "metadata": {},
   "outputs": [
    {
     "data": {
      "text/html": [
       "<div>\n",
       "<style scoped>\n",
       "    .dataframe tbody tr th:only-of-type {\n",
       "        vertical-align: middle;\n",
       "    }\n",
       "\n",
       "    .dataframe tbody tr th {\n",
       "        vertical-align: top;\n",
       "    }\n",
       "\n",
       "    .dataframe thead th {\n",
       "        text-align: right;\n",
       "    }\n",
       "</style>\n",
       "<table border=\"1\" class=\"dataframe\">\n",
       "  <thead>\n",
       "    <tr style=\"text-align: right;\">\n",
       "      <th></th>\n",
       "      <th>st</th>\n",
       "      <th>gender</th>\n",
       "      <th>education</th>\n",
       "      <th>customer lifetime value</th>\n",
       "      <th>income</th>\n",
       "      <th>monthly premium auto</th>\n",
       "      <th>number of open complaints</th>\n",
       "      <th>policy type</th>\n",
       "      <th>vehicle class</th>\n",
       "      <th>total claim amount</th>\n",
       "    </tr>\n",
       "  </thead>\n",
       "  <tbody>\n",
       "    <tr>\n",
       "      <th>0</th>\n",
       "      <td>Washington</td>\n",
       "      <td>nan</td>\n",
       "      <td>Master</td>\n",
       "      <td>NaN</td>\n",
       "      <td>0.0</td>\n",
       "      <td>1000.0</td>\n",
       "      <td>0.0</td>\n",
       "      <td>Personal Auto</td>\n",
       "      <td>Four-Door Car</td>\n",
       "      <td>2.704934</td>\n",
       "    </tr>\n",
       "    <tr>\n",
       "      <th>78</th>\n",
       "      <td>Washington</td>\n",
       "      <td>F</td>\n",
       "      <td>Master</td>\n",
       "      <td>NaN</td>\n",
       "      <td>41275.0</td>\n",
       "      <td>96.0</td>\n",
       "      <td>0.0</td>\n",
       "      <td>Personal Auto</td>\n",
       "      <td>Four-Door Car</td>\n",
       "      <td>41.122303</td>\n",
       "    </tr>\n",
       "    <tr>\n",
       "      <th>988</th>\n",
       "      <td>Washington</td>\n",
       "      <td>M</td>\n",
       "      <td>High School or Below</td>\n",
       "      <td>NaN</td>\n",
       "      <td>55561.0</td>\n",
       "      <td>63.0</td>\n",
       "      <td>0.0</td>\n",
       "      <td>Personal Auto</td>\n",
       "      <td>Four-Door Car</td>\n",
       "      <td>227.872071</td>\n",
       "    </tr>\n",
       "    <tr>\n",
       "      <th>1071</th>\n",
       "      <td>NaN</td>\n",
       "      <td>nan</td>\n",
       "      <td>NaN</td>\n",
       "      <td>NaN</td>\n",
       "      <td>NaN</td>\n",
       "      <td>NaN</td>\n",
       "      <td>NaN</td>\n",
       "      <td>NaN</td>\n",
       "      <td>NaN</td>\n",
       "      <td>NaN</td>\n",
       "    </tr>\n",
       "    <tr>\n",
       "      <th>1072</th>\n",
       "      <td>NaN</td>\n",
       "      <td>nan</td>\n",
       "      <td>NaN</td>\n",
       "      <td>NaN</td>\n",
       "      <td>NaN</td>\n",
       "      <td>NaN</td>\n",
       "      <td>NaN</td>\n",
       "      <td>NaN</td>\n",
       "      <td>NaN</td>\n",
       "      <td>NaN</td>\n",
       "    </tr>\n",
       "    <tr>\n",
       "      <th>...</th>\n",
       "      <td>...</td>\n",
       "      <td>...</td>\n",
       "      <td>...</td>\n",
       "      <td>...</td>\n",
       "      <td>...</td>\n",
       "      <td>...</td>\n",
       "      <td>...</td>\n",
       "      <td>...</td>\n",
       "      <td>...</td>\n",
       "      <td>...</td>\n",
       "    </tr>\n",
       "    <tr>\n",
       "      <th>4007</th>\n",
       "      <td>NaN</td>\n",
       "      <td>nan</td>\n",
       "      <td>NaN</td>\n",
       "      <td>NaN</td>\n",
       "      <td>NaN</td>\n",
       "      <td>NaN</td>\n",
       "      <td>NaN</td>\n",
       "      <td>NaN</td>\n",
       "      <td>NaN</td>\n",
       "      <td>NaN</td>\n",
       "    </tr>\n",
       "    <tr>\n",
       "      <th>4333</th>\n",
       "      <td>Washington</td>\n",
       "      <td>M</td>\n",
       "      <td>High School or Below</td>\n",
       "      <td>NaN</td>\n",
       "      <td>51878.0</td>\n",
       "      <td>66.0</td>\n",
       "      <td>1.0</td>\n",
       "      <td>Personal Auto</td>\n",
       "      <td>Four-Door Car</td>\n",
       "      <td>316.800000</td>\n",
       "    </tr>\n",
       "    <tr>\n",
       "      <th>4380</th>\n",
       "      <td>Washington</td>\n",
       "      <td>nan</td>\n",
       "      <td>High School or Below</td>\n",
       "      <td>NaN</td>\n",
       "      <td>36765.0</td>\n",
       "      <td>66.0</td>\n",
       "      <td>1.0</td>\n",
       "      <td>Personal Auto</td>\n",
       "      <td>Four-Door Car</td>\n",
       "      <td>320.849072</td>\n",
       "    </tr>\n",
       "    <tr>\n",
       "      <th>4588</th>\n",
       "      <td>Washington</td>\n",
       "      <td>M</td>\n",
       "      <td>Master</td>\n",
       "      <td>NaN</td>\n",
       "      <td>0.0</td>\n",
       "      <td>70.0</td>\n",
       "      <td>0.0</td>\n",
       "      <td>Personal Auto</td>\n",
       "      <td>Four-Door Car</td>\n",
       "      <td>336.000000</td>\n",
       "    </tr>\n",
       "    <tr>\n",
       "      <th>4869</th>\n",
       "      <td>Washington</td>\n",
       "      <td>F</td>\n",
       "      <td>Bachelors</td>\n",
       "      <td>NaN</td>\n",
       "      <td>25859.0</td>\n",
       "      <td>74.0</td>\n",
       "      <td>0.0</td>\n",
       "      <td>Special Auto</td>\n",
       "      <td>Four-Door Car</td>\n",
       "      <td>355.200000</td>\n",
       "    </tr>\n",
       "  </tbody>\n",
       "</table>\n",
       "<p>2944 rows × 10 columns</p>\n",
       "</div>"
      ],
      "text/plain": [
       "              st gender             education  customer lifetime value  \\\n",
       "0     Washington    nan                Master                      NaN   \n",
       "78    Washington      F                Master                      NaN   \n",
       "988   Washington      M  High School or Below                      NaN   \n",
       "1071         NaN    nan                   NaN                      NaN   \n",
       "1072         NaN    nan                   NaN                      NaN   \n",
       "...          ...    ...                   ...                      ...   \n",
       "4007         NaN    nan                   NaN                      NaN   \n",
       "4333  Washington      M  High School or Below                      NaN   \n",
       "4380  Washington    nan  High School or Below                      NaN   \n",
       "4588  Washington      M                Master                      NaN   \n",
       "4869  Washington      F             Bachelors                      NaN   \n",
       "\n",
       "       income  monthly premium auto  number of open complaints    policy type  \\\n",
       "0         0.0                1000.0                        0.0  Personal Auto   \n",
       "78    41275.0                  96.0                        0.0  Personal Auto   \n",
       "988   55561.0                  63.0                        0.0  Personal Auto   \n",
       "1071      NaN                   NaN                        NaN            NaN   \n",
       "1072      NaN                   NaN                        NaN            NaN   \n",
       "...       ...                   ...                        ...            ...   \n",
       "4007      NaN                   NaN                        NaN            NaN   \n",
       "4333  51878.0                  66.0                        1.0  Personal Auto   \n",
       "4380  36765.0                  66.0                        1.0  Personal Auto   \n",
       "4588      0.0                  70.0                        0.0  Personal Auto   \n",
       "4869  25859.0                  74.0                        0.0   Special Auto   \n",
       "\n",
       "      vehicle class  total claim amount  \n",
       "0     Four-Door Car            2.704934  \n",
       "78    Four-Door Car           41.122303  \n",
       "988   Four-Door Car          227.872071  \n",
       "1071            NaN                 NaN  \n",
       "1072            NaN                 NaN  \n",
       "...             ...                 ...  \n",
       "4007            NaN                 NaN  \n",
       "4333  Four-Door Car          316.800000  \n",
       "4380  Four-Door Car          320.849072  \n",
       "4588  Four-Door Car          336.000000  \n",
       "4869  Four-Door Car          355.200000  \n",
       "\n",
       "[2944 rows x 10 columns]"
      ]
     },
     "execution_count": 38,
     "metadata": {},
     "output_type": "execute_result"
    }
   ],
   "source": [
    "#Replacing null values – \n",
    "#Replace missing values with means of the column (for numerical columns)\n",
    "\n",
    "ca_df[ca_df['customer lifetime value'].isna()==True]"
   ]
  },
  {
   "cell_type": "code",
   "execution_count": 39,
   "id": "c3fa480e",
   "metadata": {},
   "outputs": [],
   "source": [
    "### More than half of the values are null!!\n",
    "### If it's necesary, those values can be replaced with the mean. A new\n",
    "\n",
    "mean_value_clv = round(np.mean(ca_df['customer lifetime value']))"
   ]
  },
  {
   "cell_type": "code",
   "execution_count": 40,
   "id": "10d6a09f",
   "metadata": {},
   "outputs": [],
   "source": [
    "ca_df['customer lifetime value'] = ca_df['customer lifetime value'].fillna(mean_value_clv)"
   ]
  },
  {
   "cell_type": "code",
   "execution_count": 41,
   "id": "8ec30c9a",
   "metadata": {},
   "outputs": [],
   "source": [
    "## income value\n",
    "mean_income = round(np.mean(ca_df['income']))"
   ]
  },
  {
   "cell_type": "code",
   "execution_count": 42,
   "id": "d4b24e60",
   "metadata": {},
   "outputs": [],
   "source": [
    "ca_df['income'] = ca_df['income'].fillna(mean_income)"
   ]
  },
  {
   "cell_type": "code",
   "execution_count": 43,
   "id": "a3ab4155",
   "metadata": {},
   "outputs": [
    {
     "data": {
      "text/plain": [
       "array([    0., 48767., 36357., ..., 66367., 71941., 21941.])"
      ]
     },
     "execution_count": 43,
     "metadata": {},
     "output_type": "execute_result"
    }
   ],
   "source": [
    "ca_df['income'].unique()"
   ]
  },
  {
   "cell_type": "code",
   "execution_count": 44,
   "id": "a4d39891",
   "metadata": {},
   "outputs": [],
   "source": [
    "## monthly premium auto \n",
    "mean_monthly_premauto = round(np.mean(ca_df['monthly premium auto']))\n",
    "ca_df['monthly premium auto'] = ca_df['monthly premium auto'].fillna(mean_monthly_premauto)"
   ]
  },
  {
   "cell_type": "code",
   "execution_count": 45,
   "id": "43e701d8",
   "metadata": {},
   "outputs": [],
   "source": [
    "## number of open complaints \n",
    "mean_open_comp = round(np.mean(ca_df['number of open complaints']))\n",
    "ca_df['number of open complaints'] = ca_df['number of open complaints'].fillna(mean_open_comp)"
   ]
  },
  {
   "cell_type": "code",
   "execution_count": 46,
   "id": "ff8ff3d4",
   "metadata": {},
   "outputs": [],
   "source": [
    "### total claim amount\n",
    "mean_total_claim = round(np.mean(ca_df['total claim amount']))\n",
    "ca_df['total claim amount'] = ca_df['total claim amount'].fillna(mean_total_claim)"
   ]
  },
  {
   "cell_type": "code",
   "execution_count": 47,
   "id": "9afc50ce",
   "metadata": {},
   "outputs": [
    {
     "data": {
      "text/plain": [
       "array([ 1000.,    94.,   108.,   106.,    68.,    69.,    67.,   101.,\n",
       "          71.,    93.,   110.,    70.,    64.,    72.,    74.,    79.,\n",
       "          73.,    61.,   111.,    80.,    63.,   237.,    65.,   130.,\n",
       "          62.,   117.,    91.,    90.,    66.,    99.,   103., 35354.,\n",
       "         172.,    92.,   104.,   113.,   124.,   105.,   100.,   112.,\n",
       "          97.,    95.,   102.,    96.,   186.,    77.,    76.,   119.,\n",
       "          87.,   109.,   107.,    88.,    85.,  6464.,   133.,    86.,\n",
       "          78.,    89.,   192.,   118.,   140.,   127.,   126.,    82.,\n",
       "         115.,   217.,   114.,   138.,    81.,   255.,   150.,   123.,\n",
       "         116.,   190.,    98.,   159.,    84.,    83.,   152.,   136.,\n",
       "         245.,   135.,  1005.,   225.,   132.,   153.,   121.,   139.,\n",
       "         154.,   161.,   156.,   171.,   244.,   183.,   176.,   230.,\n",
       "         129.,   177.,   181.,   196.,   131.,   276.,   253.,   137.,\n",
       "         180.,   203.,   147.,   165.,   198.,   125.,   193.,   128.,\n",
       "         271.,   142., 10202.,   206.,   182.,   189.,   160.,   295.,\n",
       "         210.,   134., 35353.,   239.,   188.,   256.,   173.,   285.,\n",
       "         148.,   141.,   197.,   199.,   214.,   175.,   167.,   194.,\n",
       "         164.,   222.,   215.,   283.,   169.,   248.,   223.,   151.,\n",
       "         213.,   145.,   185.,   287.,   297.,  5353.,   201.,   149.,\n",
       "         146.,  7575.,   235.,   268.,   211.,   187.,   168.,   122.,\n",
       "         143.,   155.,   166.,   212.,   249.,   240.,   191.,   195.,\n",
       "         216.,   144.,   179.,   232.,   158.,   207.,   184.,   238.,\n",
       "         229.,   220.,   178.,   204.,   281.,   170.,   234.,   218.,\n",
       "         275.,   209.,   261.,   157.,   205.,   228.,   242.,   284.,\n",
       "         231.,   208.,   296.,   202.,   162.,   274.,   219.,   247.,\n",
       "         290.,   226.,   163.,   298.,   266.,   254.,   252.,   174.,\n",
       "         286.])"
      ]
     },
     "execution_count": 47,
     "metadata": {},
     "output_type": "execute_result"
    }
   ],
   "source": [
    "ca_df['monthly premium auto'].unique()"
   ]
  },
  {
   "cell_type": "code",
   "execution_count": 48,
   "id": "ae1fc2ff",
   "metadata": {},
   "outputs": [
    {
     "data": {
      "text/plain": [
       "array([   2.704934, 1131.464935,  566.472247, ...,  541.282007,\n",
       "        198.234764,  790.784983])"
      ]
     },
     "execution_count": 48,
     "metadata": {},
     "output_type": "execute_result"
    }
   ],
   "source": [
    "ca_df['total claim amount'].unique()"
   ]
  },
  {
   "cell_type": "code",
   "execution_count": 49,
   "id": "b92d08d4",
   "metadata": {},
   "outputs": [
    {
     "data": {
      "text/plain": [
       "array([0., 2., 1., 3., 5., 4.])"
      ]
     },
     "execution_count": 49,
     "metadata": {},
     "output_type": "execute_result"
    }
   ],
   "source": [
    "ca_df['number of open complaints'].unique()"
   ]
  },
  {
   "cell_type": "code",
   "execution_count": 50,
   "id": "ffa83b3c",
   "metadata": {},
   "outputs": [],
   "source": [
    "ca_df[\"st\"] = ca_df[\"st\"].astype(\"str\")"
   ]
  },
  {
   "cell_type": "code",
   "execution_count": 51,
   "id": "b1794f36",
   "metadata": {},
   "outputs": [
    {
     "data": {
      "text/plain": [
       "0        Washington\n",
       "1           Arizona\n",
       "2            Nevada\n",
       "3        California\n",
       "4        Washington\n",
       "            ...    \n",
       "12069    California\n",
       "12070    California\n",
       "12071    California\n",
       "12072    California\n",
       "12073    California\n",
       "Name: st, Length: 12074, dtype: object"
      ]
     },
     "execution_count": 51,
     "metadata": {},
     "output_type": "execute_result"
    }
   ],
   "source": [
    "ca_df[\"st\"]"
   ]
  },
  {
   "cell_type": "code",
   "execution_count": 52,
   "id": "b36d8e15",
   "metadata": {},
   "outputs": [],
   "source": [
    "ca_df['st'] = list(map(lambda x: 'Arizona' if ('AZ' in x) else x, ca_df['st']))"
   ]
  },
  {
   "cell_type": "code",
   "execution_count": null,
   "id": "4b49986b",
   "metadata": {},
   "outputs": [],
   "source": []
  },
  {
   "cell_type": "code",
   "execution_count": 53,
   "id": "3c6b8f42",
   "metadata": {},
   "outputs": [],
   "source": [
    "ca_df['st'] = list(map(lambda x: 'California' if ('Cali' in x) else x, ca_df['st']))"
   ]
  },
  {
   "cell_type": "code",
   "execution_count": 54,
   "id": "4831c3aa",
   "metadata": {},
   "outputs": [],
   "source": [
    "ca_df['st'] = list(map(lambda x: 'Washington' if ('WA' in x) else x, ca_df['st']))"
   ]
  },
  {
   "cell_type": "code",
   "execution_count": 55,
   "id": "e4863bfd",
   "metadata": {},
   "outputs": [
    {
     "data": {
      "text/plain": [
       "array(['Washington', 'Arizona', 'Nevada', 'California', 'Oregon', 'nan'],\n",
       "      dtype=object)"
      ]
     },
     "execution_count": 55,
     "metadata": {},
     "output_type": "execute_result"
    }
   ],
   "source": [
    "ca_df[\"st\"].unique()"
   ]
  },
  {
   "cell_type": "code",
   "execution_count": 56,
   "id": "5919ec4e",
   "metadata": {},
   "outputs": [],
   "source": [
    "ca_df[\"st\"] = ca_df[\"st\"].astype(\"category\")"
   ]
  },
  {
   "cell_type": "code",
   "execution_count": 57,
   "id": "af54d466",
   "metadata": {},
   "outputs": [],
   "source": [
    "state_region_labels = {'California':'West', 'Oregon':'Nord West', 'Washington':'East','Nevada':'Central', 'Arizona':'Central'}"
   ]
  },
  {
   "cell_type": "code",
   "execution_count": 58,
   "id": "96c6c8ca",
   "metadata": {},
   "outputs": [],
   "source": [
    "ca_df['st'].replace(state_region_labels, inplace = True)"
   ]
  },
  {
   "cell_type": "code",
   "execution_count": 59,
   "id": "cd9a2318",
   "metadata": {},
   "outputs": [
    {
     "data": {
      "text/plain": [
       "array(['East', 'Central', 'West', 'Nord West', 'nan'], dtype=object)"
      ]
     },
     "execution_count": 59,
     "metadata": {},
     "output_type": "execute_result"
    }
   ],
   "source": [
    "ca_df['st'].unique()"
   ]
  },
  {
   "cell_type": "code",
   "execution_count": 60,
   "id": "e3cc71b7",
   "metadata": {},
   "outputs": [
    {
     "data": {
      "text/plain": [
       "st                            object\n",
       "gender                        object\n",
       "education                     object\n",
       "customer lifetime value      float64\n",
       "income                       float64\n",
       "monthly premium auto         float64\n",
       "number of open complaints    float64\n",
       "policy type                   object\n",
       "vehicle class                 object\n",
       "total claim amount           float64\n",
       "dtype: object"
      ]
     },
     "execution_count": 60,
     "metadata": {},
     "output_type": "execute_result"
    }
   ],
   "source": [
    "ca_df.dtypes"
   ]
  },
  {
   "cell_type": "code",
   "execution_count": 61,
   "id": "bdcf6ce9",
   "metadata": {},
   "outputs": [
    {
     "data": {
      "text/plain": [
       "0           east\n",
       "1        central\n",
       "2        central\n",
       "3           west\n",
       "4           east\n",
       "          ...   \n",
       "12069       west\n",
       "12070       west\n",
       "12071       west\n",
       "12072       west\n",
       "12073       west\n",
       "Name: st, Length: 12074, dtype: object"
      ]
     },
     "execution_count": 61,
     "metadata": {},
     "output_type": "execute_result"
    }
   ],
   "source": [
    "ca_df['st'] = ca_df['st'].str.lower()\n",
    "ca_df['st']"
   ]
  },
  {
   "cell_type": "code",
   "execution_count": 62,
   "id": "84134830",
   "metadata": {},
   "outputs": [
    {
     "data": {
      "text/plain": [
       "0        nan\n",
       "1          f\n",
       "2          f\n",
       "3          m\n",
       "4          m\n",
       "        ... \n",
       "12069      m\n",
       "12070      f\n",
       "12071      m\n",
       "12072      m\n",
       "12073      m\n",
       "Name: gender, Length: 12074, dtype: object"
      ]
     },
     "execution_count": 62,
     "metadata": {},
     "output_type": "execute_result"
    }
   ],
   "source": [
    "ca_df['gender'] = ca_df['gender'].str.lower()\n",
    "ca_df['gender']"
   ]
  },
  {
   "cell_type": "code",
   "execution_count": 63,
   "id": "36824ceb",
   "metadata": {},
   "outputs": [
    {
     "data": {
      "text/plain": [
       "0                      master\n",
       "1                    bachelor\n",
       "2                    bachelor\n",
       "3                    bachelor\n",
       "4        high school or below\n",
       "                 ...         \n",
       "12069                bachelor\n",
       "12070                 college\n",
       "12071                bachelor\n",
       "12072                 college\n",
       "12073                 college\n",
       "Name: education, Length: 12074, dtype: object"
      ]
     },
     "execution_count": 63,
     "metadata": {},
     "output_type": "execute_result"
    }
   ],
   "source": [
    "ca_df['education'] = ca_df['education'].str.lower()\n",
    "ca_df['education']"
   ]
  },
  {
   "cell_type": "code",
   "execution_count": 64,
   "id": "b5b55d8a",
   "metadata": {},
   "outputs": [],
   "source": [
    "ca_df['policy type'] = ca_df['policy type'].str.lower()"
   ]
  },
  {
   "cell_type": "code",
   "execution_count": 65,
   "id": "814b5d4b",
   "metadata": {},
   "outputs": [
    {
     "data": {
      "text/plain": [
       "0         personal auto\n",
       "1         personal auto\n",
       "2         personal auto\n",
       "3        corporate auto\n",
       "4         personal auto\n",
       "              ...      \n",
       "12069     personal auto\n",
       "12070    corporate auto\n",
       "12071    corporate auto\n",
       "12072     personal auto\n",
       "12073    corporate auto\n",
       "Name: policy type, Length: 12074, dtype: object"
      ]
     },
     "execution_count": 65,
     "metadata": {},
     "output_type": "execute_result"
    }
   ],
   "source": [
    "ca_df['policy type']"
   ]
  },
  {
   "cell_type": "code",
   "execution_count": 66,
   "id": "21960871",
   "metadata": {},
   "outputs": [],
   "source": [
    "ca_df['vehicle class'] = ca_df['vehicle class'].str.lower()"
   ]
  },
  {
   "cell_type": "code",
   "execution_count": 67,
   "id": "99fdc67b",
   "metadata": {},
   "outputs": [
    {
     "data": {
      "text/plain": [
       "0        four-door car\n",
       "1        four-door car\n",
       "2         two-door car\n",
       "3                  suv\n",
       "4        four-door car\n",
       "             ...      \n",
       "12069    four-door car\n",
       "12070    four-door car\n",
       "12071    four-door car\n",
       "12072    four-door car\n",
       "12073     two-door car\n",
       "Name: vehicle class, Length: 12074, dtype: object"
      ]
     },
     "execution_count": 67,
     "metadata": {},
     "output_type": "execute_result"
    }
   ],
   "source": [
    "ca_df['vehicle class']"
   ]
  },
  {
   "cell_type": "code",
   "execution_count": 68,
   "id": "f1ead618",
   "metadata": {},
   "outputs": [
    {
     "data": {
      "text/html": [
       "<div>\n",
       "<style scoped>\n",
       "    .dataframe tbody tr th:only-of-type {\n",
       "        vertical-align: middle;\n",
       "    }\n",
       "\n",
       "    .dataframe tbody tr th {\n",
       "        vertical-align: top;\n",
       "    }\n",
       "\n",
       "    .dataframe thead th {\n",
       "        text-align: right;\n",
       "    }\n",
       "</style>\n",
       "<table border=\"1\" class=\"dataframe\">\n",
       "  <thead>\n",
       "    <tr style=\"text-align: right;\">\n",
       "      <th></th>\n",
       "      <th>st</th>\n",
       "      <th>gender</th>\n",
       "      <th>education</th>\n",
       "      <th>customer lifetime value</th>\n",
       "      <th>income</th>\n",
       "      <th>monthly premium auto</th>\n",
       "      <th>number of open complaints</th>\n",
       "      <th>policy type</th>\n",
       "      <th>vehicle class</th>\n",
       "      <th>total claim amount</th>\n",
       "    </tr>\n",
       "  </thead>\n",
       "  <tbody>\n",
       "    <tr>\n",
       "      <th>0</th>\n",
       "      <td>east</td>\n",
       "      <td>nan</td>\n",
       "      <td>master</td>\n",
       "      <td>182196.00</td>\n",
       "      <td>0.0</td>\n",
       "      <td>1000.0</td>\n",
       "      <td>0.0</td>\n",
       "      <td>personal auto</td>\n",
       "      <td>four-door car</td>\n",
       "      <td>2.704934</td>\n",
       "    </tr>\n",
       "    <tr>\n",
       "      <th>1</th>\n",
       "      <td>central</td>\n",
       "      <td>f</td>\n",
       "      <td>bachelor</td>\n",
       "      <td>697953.59</td>\n",
       "      <td>0.0</td>\n",
       "      <td>94.0</td>\n",
       "      <td>0.0</td>\n",
       "      <td>personal auto</td>\n",
       "      <td>four-door car</td>\n",
       "      <td>1131.464935</td>\n",
       "    </tr>\n",
       "    <tr>\n",
       "      <th>2</th>\n",
       "      <td>central</td>\n",
       "      <td>f</td>\n",
       "      <td>bachelor</td>\n",
       "      <td>1288743.17</td>\n",
       "      <td>48767.0</td>\n",
       "      <td>108.0</td>\n",
       "      <td>0.0</td>\n",
       "      <td>personal auto</td>\n",
       "      <td>two-door car</td>\n",
       "      <td>566.472247</td>\n",
       "    </tr>\n",
       "    <tr>\n",
       "      <th>3</th>\n",
       "      <td>west</td>\n",
       "      <td>m</td>\n",
       "      <td>bachelor</td>\n",
       "      <td>764586.18</td>\n",
       "      <td>0.0</td>\n",
       "      <td>106.0</td>\n",
       "      <td>0.0</td>\n",
       "      <td>corporate auto</td>\n",
       "      <td>suv</td>\n",
       "      <td>529.881344</td>\n",
       "    </tr>\n",
       "    <tr>\n",
       "      <th>4</th>\n",
       "      <td>east</td>\n",
       "      <td>m</td>\n",
       "      <td>high school or below</td>\n",
       "      <td>536307.65</td>\n",
       "      <td>36357.0</td>\n",
       "      <td>68.0</td>\n",
       "      <td>0.0</td>\n",
       "      <td>personal auto</td>\n",
       "      <td>four-door car</td>\n",
       "      <td>17.269323</td>\n",
       "    </tr>\n",
       "  </tbody>\n",
       "</table>\n",
       "</div>"
      ],
      "text/plain": [
       "        st gender             education  customer lifetime value   income  \\\n",
       "0     east    nan                master                182196.00      0.0   \n",
       "1  central      f              bachelor                697953.59      0.0   \n",
       "2  central      f              bachelor               1288743.17  48767.0   \n",
       "3     west      m              bachelor                764586.18      0.0   \n",
       "4     east      m  high school or below                536307.65  36357.0   \n",
       "\n",
       "   monthly premium auto  number of open complaints     policy type  \\\n",
       "0                1000.0                        0.0   personal auto   \n",
       "1                  94.0                        0.0   personal auto   \n",
       "2                 108.0                        0.0   personal auto   \n",
       "3                 106.0                        0.0  corporate auto   \n",
       "4                  68.0                        0.0   personal auto   \n",
       "\n",
       "   vehicle class  total claim amount  \n",
       "0  four-door car            2.704934  \n",
       "1  four-door car         1131.464935  \n",
       "2   two-door car          566.472247  \n",
       "3            suv          529.881344  \n",
       "4  four-door car           17.269323  "
      ]
     },
     "execution_count": 68,
     "metadata": {},
     "output_type": "execute_result"
    }
   ],
   "source": [
    "ca_df.head()"
   ]
  },
  {
   "cell_type": "code",
   "execution_count": 69,
   "id": "90b6186f",
   "metadata": {},
   "outputs": [
    {
     "data": {
      "text/html": [
       "<div>\n",
       "<style scoped>\n",
       "    .dataframe tbody tr th:only-of-type {\n",
       "        vertical-align: middle;\n",
       "    }\n",
       "\n",
       "    .dataframe tbody tr th {\n",
       "        vertical-align: top;\n",
       "    }\n",
       "\n",
       "    .dataframe thead th {\n",
       "        text-align: right;\n",
       "    }\n",
       "</style>\n",
       "<table border=\"1\" class=\"dataframe\">\n",
       "  <thead>\n",
       "    <tr style=\"text-align: right;\">\n",
       "      <th></th>\n",
       "      <th>st</th>\n",
       "      <th>gender</th>\n",
       "      <th>education</th>\n",
       "      <th>policy type</th>\n",
       "      <th>vehicle class</th>\n",
       "    </tr>\n",
       "  </thead>\n",
       "  <tbody>\n",
       "    <tr>\n",
       "      <th>0</th>\n",
       "      <td>east</td>\n",
       "      <td>nan</td>\n",
       "      <td>master</td>\n",
       "      <td>personal auto</td>\n",
       "      <td>four-door car</td>\n",
       "    </tr>\n",
       "    <tr>\n",
       "      <th>1</th>\n",
       "      <td>central</td>\n",
       "      <td>f</td>\n",
       "      <td>bachelor</td>\n",
       "      <td>personal auto</td>\n",
       "      <td>four-door car</td>\n",
       "    </tr>\n",
       "    <tr>\n",
       "      <th>2</th>\n",
       "      <td>central</td>\n",
       "      <td>f</td>\n",
       "      <td>bachelor</td>\n",
       "      <td>personal auto</td>\n",
       "      <td>two-door car</td>\n",
       "    </tr>\n",
       "    <tr>\n",
       "      <th>3</th>\n",
       "      <td>west</td>\n",
       "      <td>m</td>\n",
       "      <td>bachelor</td>\n",
       "      <td>corporate auto</td>\n",
       "      <td>suv</td>\n",
       "    </tr>\n",
       "    <tr>\n",
       "      <th>4</th>\n",
       "      <td>east</td>\n",
       "      <td>m</td>\n",
       "      <td>high school or below</td>\n",
       "      <td>personal auto</td>\n",
       "      <td>four-door car</td>\n",
       "    </tr>\n",
       "    <tr>\n",
       "      <th>...</th>\n",
       "      <td>...</td>\n",
       "      <td>...</td>\n",
       "      <td>...</td>\n",
       "      <td>...</td>\n",
       "      <td>...</td>\n",
       "    </tr>\n",
       "    <tr>\n",
       "      <th>12069</th>\n",
       "      <td>west</td>\n",
       "      <td>m</td>\n",
       "      <td>bachelor</td>\n",
       "      <td>personal auto</td>\n",
       "      <td>four-door car</td>\n",
       "    </tr>\n",
       "    <tr>\n",
       "      <th>12070</th>\n",
       "      <td>west</td>\n",
       "      <td>f</td>\n",
       "      <td>college</td>\n",
       "      <td>corporate auto</td>\n",
       "      <td>four-door car</td>\n",
       "    </tr>\n",
       "    <tr>\n",
       "      <th>12071</th>\n",
       "      <td>west</td>\n",
       "      <td>m</td>\n",
       "      <td>bachelor</td>\n",
       "      <td>corporate auto</td>\n",
       "      <td>four-door car</td>\n",
       "    </tr>\n",
       "    <tr>\n",
       "      <th>12072</th>\n",
       "      <td>west</td>\n",
       "      <td>m</td>\n",
       "      <td>college</td>\n",
       "      <td>personal auto</td>\n",
       "      <td>four-door car</td>\n",
       "    </tr>\n",
       "    <tr>\n",
       "      <th>12073</th>\n",
       "      <td>west</td>\n",
       "      <td>m</td>\n",
       "      <td>college</td>\n",
       "      <td>corporate auto</td>\n",
       "      <td>two-door car</td>\n",
       "    </tr>\n",
       "  </tbody>\n",
       "</table>\n",
       "<p>12074 rows × 5 columns</p>\n",
       "</div>"
      ],
      "text/plain": [
       "            st gender             education     policy type  vehicle class\n",
       "0         east    nan                master   personal auto  four-door car\n",
       "1      central      f              bachelor   personal auto  four-door car\n",
       "2      central      f              bachelor   personal auto   two-door car\n",
       "3         west      m              bachelor  corporate auto            suv\n",
       "4         east      m  high school or below   personal auto  four-door car\n",
       "...        ...    ...                   ...             ...            ...\n",
       "12069     west      m              bachelor   personal auto  four-door car\n",
       "12070     west      f               college  corporate auto  four-door car\n",
       "12071     west      m              bachelor  corporate auto  four-door car\n",
       "12072     west      m               college   personal auto  four-door car\n",
       "12073     west      m               college  corporate auto   two-door car\n",
       "\n",
       "[12074 rows x 5 columns]"
      ]
     },
     "execution_count": 69,
     "metadata": {},
     "output_type": "execute_result"
    }
   ],
   "source": [
    "ca_df_objects = ca_df.select_dtypes(include=['object'], exclude=['float64'])\n",
    "ca_df_objects"
   ]
  },
  {
   "cell_type": "code",
   "execution_count": 70,
   "id": "8781c14b",
   "metadata": {},
   "outputs": [
    {
     "data": {
      "text/html": [
       "<div>\n",
       "<style scoped>\n",
       "    .dataframe tbody tr th:only-of-type {\n",
       "        vertical-align: middle;\n",
       "    }\n",
       "\n",
       "    .dataframe tbody tr th {\n",
       "        vertical-align: top;\n",
       "    }\n",
       "\n",
       "    .dataframe thead th {\n",
       "        text-align: right;\n",
       "    }\n",
       "</style>\n",
       "<table border=\"1\" class=\"dataframe\">\n",
       "  <thead>\n",
       "    <tr style=\"text-align: right;\">\n",
       "      <th></th>\n",
       "      <th>customer lifetime value</th>\n",
       "      <th>income</th>\n",
       "      <th>monthly premium auto</th>\n",
       "      <th>number of open complaints</th>\n",
       "      <th>total claim amount</th>\n",
       "    </tr>\n",
       "  </thead>\n",
       "  <tbody>\n",
       "    <tr>\n",
       "      <th>0</th>\n",
       "      <td>1.821960e+05</td>\n",
       "      <td>0.0</td>\n",
       "      <td>1000.0</td>\n",
       "      <td>0.0</td>\n",
       "      <td>2.704934</td>\n",
       "    </tr>\n",
       "    <tr>\n",
       "      <th>1</th>\n",
       "      <td>6.979536e+05</td>\n",
       "      <td>0.0</td>\n",
       "      <td>94.0</td>\n",
       "      <td>0.0</td>\n",
       "      <td>1131.464935</td>\n",
       "    </tr>\n",
       "    <tr>\n",
       "      <th>2</th>\n",
       "      <td>1.288743e+06</td>\n",
       "      <td>48767.0</td>\n",
       "      <td>108.0</td>\n",
       "      <td>0.0</td>\n",
       "      <td>566.472247</td>\n",
       "    </tr>\n",
       "    <tr>\n",
       "      <th>3</th>\n",
       "      <td>7.645862e+05</td>\n",
       "      <td>0.0</td>\n",
       "      <td>106.0</td>\n",
       "      <td>0.0</td>\n",
       "      <td>529.881344</td>\n",
       "    </tr>\n",
       "    <tr>\n",
       "      <th>4</th>\n",
       "      <td>5.363077e+05</td>\n",
       "      <td>36357.0</td>\n",
       "      <td>68.0</td>\n",
       "      <td>0.0</td>\n",
       "      <td>17.269323</td>\n",
       "    </tr>\n",
       "    <tr>\n",
       "      <th>...</th>\n",
       "      <td>...</td>\n",
       "      <td>...</td>\n",
       "      <td>...</td>\n",
       "      <td>...</td>\n",
       "      <td>...</td>\n",
       "    </tr>\n",
       "    <tr>\n",
       "      <th>12069</th>\n",
       "      <td>2.340599e+04</td>\n",
       "      <td>71941.0</td>\n",
       "      <td>73.0</td>\n",
       "      <td>0.0</td>\n",
       "      <td>198.234764</td>\n",
       "    </tr>\n",
       "    <tr>\n",
       "      <th>12070</th>\n",
       "      <td>3.096511e+03</td>\n",
       "      <td>21604.0</td>\n",
       "      <td>79.0</td>\n",
       "      <td>0.0</td>\n",
       "      <td>379.200000</td>\n",
       "    </tr>\n",
       "    <tr>\n",
       "      <th>12071</th>\n",
       "      <td>8.163890e+03</td>\n",
       "      <td>0.0</td>\n",
       "      <td>85.0</td>\n",
       "      <td>3.0</td>\n",
       "      <td>790.784983</td>\n",
       "    </tr>\n",
       "    <tr>\n",
       "      <th>12072</th>\n",
       "      <td>7.524442e+03</td>\n",
       "      <td>21941.0</td>\n",
       "      <td>96.0</td>\n",
       "      <td>0.0</td>\n",
       "      <td>691.200000</td>\n",
       "    </tr>\n",
       "    <tr>\n",
       "      <th>12073</th>\n",
       "      <td>2.611837e+03</td>\n",
       "      <td>0.0</td>\n",
       "      <td>77.0</td>\n",
       "      <td>0.0</td>\n",
       "      <td>369.600000</td>\n",
       "    </tr>\n",
       "  </tbody>\n",
       "</table>\n",
       "<p>12074 rows × 5 columns</p>\n",
       "</div>"
      ],
      "text/plain": [
       "       customer lifetime value   income  monthly premium auto  \\\n",
       "0                 1.821960e+05      0.0                1000.0   \n",
       "1                 6.979536e+05      0.0                  94.0   \n",
       "2                 1.288743e+06  48767.0                 108.0   \n",
       "3                 7.645862e+05      0.0                 106.0   \n",
       "4                 5.363077e+05  36357.0                  68.0   \n",
       "...                        ...      ...                   ...   \n",
       "12069             2.340599e+04  71941.0                  73.0   \n",
       "12070             3.096511e+03  21604.0                  79.0   \n",
       "12071             8.163890e+03      0.0                  85.0   \n",
       "12072             7.524442e+03  21941.0                  96.0   \n",
       "12073             2.611837e+03      0.0                  77.0   \n",
       "\n",
       "       number of open complaints  total claim amount  \n",
       "0                            0.0            2.704934  \n",
       "1                            0.0         1131.464935  \n",
       "2                            0.0          566.472247  \n",
       "3                            0.0          529.881344  \n",
       "4                            0.0           17.269323  \n",
       "...                          ...                 ...  \n",
       "12069                        0.0          198.234764  \n",
       "12070                        0.0          379.200000  \n",
       "12071                        3.0          790.784983  \n",
       "12072                        0.0          691.200000  \n",
       "12073                        0.0          369.600000  \n",
       "\n",
       "[12074 rows x 5 columns]"
      ]
     },
     "execution_count": 70,
     "metadata": {},
     "output_type": "execute_result"
    }
   ],
   "source": [
    "ca_df_numerical = ca_df.select_dtypes(include=['float64'], exclude=['object'])\n",
    "ca_df_numerical"
   ]
  },
  {
   "cell_type": "code",
   "execution_count": 76,
   "id": "b3429b03",
   "metadata": {},
   "outputs": [
    {
     "data": {
      "text/plain": [
       "st                              0\n",
       "gender                          0\n",
       "education                    2937\n",
       "customer lifetime value         0\n",
       "income                          0\n",
       "monthly premium auto            0\n",
       "number of open complaints       0\n",
       "policy type                  2937\n",
       "vehicle class                2937\n",
       "total claim amount              0\n",
       "dtype: int64"
      ]
     },
     "execution_count": 76,
     "metadata": {},
     "output_type": "execute_result"
    }
   ],
   "source": [
    "ca_df.isna().sum()"
   ]
  },
  {
   "cell_type": "code",
   "execution_count": null,
   "id": "0afd8b5b",
   "metadata": {},
   "outputs": [],
   "source": []
  }
 ],
 "metadata": {
  "kernelspec": {
   "display_name": "Python 3 (ipykernel)",
   "language": "python",
   "name": "python3"
  },
  "language_info": {
   "codemirror_mode": {
    "name": "ipython",
    "version": 3
   },
   "file_extension": ".py",
   "mimetype": "text/x-python",
   "name": "python",
   "nbconvert_exporter": "python",
   "pygments_lexer": "ipython3",
   "version": "3.9.7"
  }
 },
 "nbformat": 4,
 "nbformat_minor": 5
}
